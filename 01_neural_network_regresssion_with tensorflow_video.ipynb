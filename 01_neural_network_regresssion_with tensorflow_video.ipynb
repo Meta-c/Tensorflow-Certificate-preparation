{
 "cells": [
  {
   "cell_type": "code",
   "execution_count": 1,
   "metadata": {},
   "outputs": [],
   "source": [
    "import tensorflow as tf\n",
    "import pandas as pd\n",
    "import numpy as np\n",
    "import cv2\n",
    "import sklearn\n",
    "import matplotlib.pyplot as plt\n",
    "from sklearn import tree\n",
    "from sklearn.model_selection import train_test_split\n",
    "from sklearn.tree import DecisionTreeRegressor\n"
   ]
  },
  {
   "attachments": {},
   "cell_type": "markdown",
   "metadata": {},
   "source": [
    "### Introduction to Regression with Neural Network in Tensorflow\n",
    "\n",
    "There are many defenitions for a regression problem but in our case, we're going to simplify it: predicting a numerical variable based on some other combination of variables, even shorter...predicting a number"
   ]
  },
  {
   "attachments": {},
   "cell_type": "markdown",
   "metadata": {},
   "source": [
    "## Creating data to view and fit"
   ]
  },
  {
   "cell_type": "code",
   "execution_count": 3,
   "metadata": {},
   "outputs": [
    {
     "data": {
      "text/plain": [
       "<matplotlib.collections.PathCollection at 0x18010fd5390>"
      ]
     },
     "execution_count": 3,
     "metadata": {},
     "output_type": "execute_result"
    },
    {
     "data": {
      "image/png": "[encoded data removed]",
      "text/plain": [
       "<Figure size 640x480 with 1 Axes>"
      ]
     },
     "metadata": {},
     "output_type": "display_data"
    }
   ],
   "source": [
    "#Create features \n",
    "x=np.array([-7.0, -4.0, -1.0, 2.0, 5.0, 8.0, 11.0, 14.0])\n",
    "\n",
    "# Create labels\n",
    "y=np.array([3.0, 6.0, 9.0, 12.0, 15.0, 18.0, 21.0, 24.0])\n",
    "\n",
    "# Visualize it\n",
    "\n",
    "plt.scatter(x,y)\n"
   ]
  },
  {
   "attachments": {},
   "cell_type": "markdown",
   "metadata": {},
   "source": [
    "## input and output shapes"
   ]
  },
  {
   "cell_type": "code",
   "execution_count": 4,
   "metadata": {},
   "outputs": [
    {
     "data": {
      "text/plain": [
       "(<tf.Tensor: shape=(3,), dtype=string, numpy=array([b'bedroom', b'bathroom', b'garage'], dtype=object)>,\n",
       " <tf.Tensor: shape=(1,), dtype=int32, numpy=array([939700])>)"
      ]
     },
     "execution_count": 4,
     "metadata": {},
     "output_type": "execute_result"
    }
   ],
   "source": [
    "# Create a demo tensor for our housing price prediction \n",
    "\n",
    "house_info=tf.constant([\"bedroom\",\"bathroom\",\"garage\"])\n",
    "housse_price=tf.constant([939700])\n",
    "house_info,housse_price"
   ]
  },
  {
   "cell_type": "code",
   "execution_count": 5,
   "metadata": {},
   "outputs": [
    {
     "data": {
      "text/plain": [
       "(-7.0, 3.0)"
      ]
     },
     "execution_count": 5,
     "metadata": {},
     "output_type": "execute_result"
    }
   ],
   "source": [
    "x[0],y[0]"
   ]
  },
  {
   "cell_type": "code",
   "execution_count": 6,
   "metadata": {},
   "outputs": [
    {
     "data": {
      "text/plain": [
       "(-4.0, 6.0)"
      ]
     },
     "execution_count": 6,
     "metadata": {},
     "output_type": "execute_result"
    }
   ],
   "source": [
    "x[1],y[1]"
   ]
  },
  {
   "cell_type": "code",
   "execution_count": 7,
   "metadata": {},
   "outputs": [
    {
     "data": {
      "text/plain": [
       "((8,), (8,))"
      ]
     },
     "execution_count": 7,
     "metadata": {},
     "output_type": "execute_result"
    }
   ],
   "source": [
    "input_shape=x.shape\n",
    "output_shape=y.shape\n",
    "input_shape,output_shape"
   ]
  },
  {
   "cell_type": "code",
   "execution_count": 8,
   "metadata": {},
   "outputs": [
    {
     "data": {
      "text/plain": [
       "(<tf.Tensor: shape=(8,), dtype=float32, numpy=array([-7., -4., -1.,  2.,  5.,  8., 11., 14.], dtype=float32)>,\n",
       " <tf.Tensor: shape=(8,), dtype=float32, numpy=array([ 3.,  6.,  9., 12., 15., 18., 21., 24.], dtype=float32)>)"
      ]
     },
     "execution_count": 8,
     "metadata": {},
     "output_type": "execute_result"
    }
   ],
   "source": [
    "# turn our numpy arrays to tensors\n",
    "\n",
    "x=tf.cast(tf.constant(x), dtype=tf.float32)\n",
    "y=tf.cast(tf.constant(y),dtype=tf.float32)\n",
    "\n",
    "x,y"
   ]
  },
  {
   "cell_type": "code",
   "execution_count": 9,
   "metadata": {},
   "outputs": [
    {
     "data": {
      "text/plain": [
       "(TensorShape([]), TensorShape([]))"
      ]
     },
     "execution_count": 9,
     "metadata": {},
     "output_type": "execute_result"
    }
   ],
   "source": [
    "input_shape=x[0].shape\n",
    "output_shape=y[0].shape\n",
    "input_shape,output_shape"
   ]
  },
  {
   "attachments": {},
   "cell_type": "markdown",
   "metadata": {},
   "source": [
    "## Steps in modelling with tensorflow\n",
    "\n",
    "1. **Creating a model**- define the input and output layersm as well as the hidden layers of a deep learning model.\n",
    "\n",
    "2. **Compiling a model**\n",
    "\n",
    "3. **Fitting a model**- letting the model try to find patterns between x&y ( features and labels)"
   ]
  },
  {
   "cell_type": "code",
   "execution_count": 13,
   "metadata": {},
   "outputs": [
    {
     "name": "stdout",
     "output_type": "stream",
     "text": [
      "Epoch 1/100\n",
      "1/1 [==============================] - 0s 408ms/step - loss: 11.5048 - mae: 11.5048\n",
      "Epoch 2/100\n",
      "1/1 [==============================] - 0s 5ms/step - loss: 11.3723 - mae: 11.3723\n",
      "Epoch 3/100\n",
      "1/1 [==============================] - 0s 5ms/step - loss: 11.2398 - mae: 11.2398\n",
      "Epoch 4/100\n",
      "1/1 [==============================] - 0s 7ms/step - loss: 11.1073 - mae: 11.1073\n",
      "Epoch 5/100\n",
      "1/1 [==============================] - 0s 9ms/step - loss: 10.9748 - mae: 10.9748\n",
      "Epoch 6/100\n",
      "1/1 [==============================] - 0s 7ms/step - loss: 10.8423 - mae: 10.8423\n",
      "Epoch 7/100\n",
      "1/1 [==============================] - 0s 9ms/step - loss: 10.7098 - mae: 10.7098\n",
      "Epoch 8/100\n",
      "1/1 [==============================] - 0s 9ms/step - loss: 10.5773 - mae: 10.5773\n",
      "Epoch 9/100\n",
      "1/1 [==============================] - 0s 16ms/step - loss: 10.4448 - mae: 10.4448\n",
      "Epoch 10/100\n",
      "1/1 [==============================] - 0s 12ms/step - loss: 10.3123 - mae: 10.3123\n",
      "Epoch 11/100\n",
      "1/1 [==============================] - 0s 12ms/step - loss: 10.1798 - mae: 10.1798\n",
      "Epoch 12/100\n",
      "1/1 [==============================] - 0s 8ms/step - loss: 10.0473 - mae: 10.0473\n",
      "Epoch 13/100\n",
      "1/1 [==============================] - 0s 13ms/step - loss: 9.9148 - mae: 9.9148\n",
      "Epoch 14/100\n",
      "1/1 [==============================] - 0s 8ms/step - loss: 9.7823 - mae: 9.7823\n",
      "Epoch 15/100\n",
      "1/1 [==============================] - 0s 19ms/step - loss: 9.6498 - mae: 9.6498\n",
      "Epoch 16/100\n",
      "1/1 [==============================] - 0s 43ms/step - loss: 9.5173 - mae: 9.5173\n",
      "Epoch 17/100\n",
      "1/1 [==============================] - 0s 9ms/step - loss: 9.3848 - mae: 9.3848\n",
      "Epoch 18/100\n",
      "1/1 [==============================] - 0s 28ms/step - loss: 9.2523 - mae: 9.2523\n",
      "Epoch 19/100\n",
      "1/1 [==============================] - 0s 17ms/step - loss: 9.1198 - mae: 9.1198\n",
      "Epoch 20/100\n",
      "1/1 [==============================] - 0s 14ms/step - loss: 8.9873 - mae: 8.9873\n",
      "Epoch 21/100\n",
      "1/1 [==============================] - 0s 8ms/step - loss: 8.8548 - mae: 8.8548\n",
      "Epoch 22/100\n",
      "1/1 [==============================] - 0s 12ms/step - loss: 8.7223 - mae: 8.7223\n",
      "Epoch 23/100\n",
      "1/1 [==============================] - 0s 6ms/step - loss: 8.5898 - mae: 8.5898\n",
      "Epoch 24/100\n",
      "1/1 [==============================] - 0s 11ms/step - loss: 8.4573 - mae: 8.4573\n",
      "Epoch 25/100\n",
      "1/1 [==============================] - 0s 15ms/step - loss: 8.3248 - mae: 8.3248\n",
      "Epoch 26/100\n",
      "1/1 [==============================] - 0s 7ms/step - loss: 8.1923 - mae: 8.1923\n",
      "Epoch 27/100\n",
      "1/1 [==============================] - 0s 8ms/step - loss: 8.0598 - mae: 8.0598\n",
      "Epoch 28/100\n",
      "1/1 [==============================] - 0s 7ms/step - loss: 7.9273 - mae: 7.9273\n",
      "Epoch 29/100\n",
      "1/1 [==============================] - 0s 6ms/step - loss: 7.7948 - mae: 7.7948\n",
      "Epoch 30/100\n",
      "1/1 [==============================] - 0s 9ms/step - loss: 7.6623 - mae: 7.6623\n",
      "Epoch 31/100\n",
      "1/1 [==============================] - 0s 7ms/step - loss: 7.5298 - mae: 7.5298\n",
      "Epoch 32/100\n",
      "1/1 [==============================] - 0s 8ms/step - loss: 7.3973 - mae: 7.3973\n",
      "Epoch 33/100\n",
      "1/1 [==============================] - 0s 8ms/step - loss: 7.2648 - mae: 7.2648\n",
      "Epoch 34/100\n",
      "1/1 [==============================] - 0s 9ms/step - loss: 7.2525 - mae: 7.2525\n",
      "Epoch 35/100\n",
      "1/1 [==============================] - 0s 9ms/step - loss: 7.2469 - mae: 7.2469\n",
      "Epoch 36/100\n",
      "1/1 [==============================] - 0s 9ms/step - loss: 7.2413 - mae: 7.2413\n",
      "Epoch 37/100\n",
      "1/1 [==============================] - 0s 18ms/step - loss: 7.2356 - mae: 7.2356\n",
      "Epoch 38/100\n",
      "1/1 [==============================] - 0s 8ms/step - loss: 7.2300 - mae: 7.2300\n",
      "Epoch 39/100\n",
      "1/1 [==============================] - 0s 6ms/step - loss: 7.2244 - mae: 7.2244\n",
      "Epoch 40/100\n",
      "1/1 [==============================] - 0s 11ms/step - loss: 7.2188 - mae: 7.2188\n",
      "Epoch 41/100\n",
      "1/1 [==============================] - 0s 8ms/step - loss: 7.2131 - mae: 7.2131\n",
      "Epoch 42/100\n",
      "1/1 [==============================] - 0s 7ms/step - loss: 7.2075 - mae: 7.2075\n",
      "Epoch 43/100\n",
      "1/1 [==============================] - 0s 9ms/step - loss: 7.2019 - mae: 7.2019\n",
      "Epoch 44/100\n",
      "1/1 [==============================] - 0s 9ms/step - loss: 7.1962 - mae: 7.1962\n",
      "Epoch 45/100\n",
      "1/1 [==============================] - 0s 53ms/step - loss: 7.1906 - mae: 7.1906\n",
      "Epoch 46/100\n",
      "1/1 [==============================] - 0s 10ms/step - loss: 7.1850 - mae: 7.1850\n",
      "Epoch 47/100\n",
      "1/1 [==============================] - 0s 9ms/step - loss: 7.1794 - mae: 7.1794\n",
      "Epoch 48/100\n",
      "1/1 [==============================] - 0s 5ms/step - loss: 7.1738 - mae: 7.1738\n",
      "Epoch 49/100\n",
      "1/1 [==============================] - 0s 6ms/step - loss: 7.1681 - mae: 7.1681\n",
      "Epoch 50/100\n",
      "1/1 [==============================] - 0s 8ms/step - loss: 7.1625 - mae: 7.1625\n",
      "Epoch 51/100\n",
      "1/1 [==============================] - 0s 8ms/step - loss: 7.1569 - mae: 7.1569\n",
      "Epoch 52/100\n",
      "1/1 [==============================] - 0s 7ms/step - loss: 7.1512 - mae: 7.1512\n",
      "Epoch 53/100\n",
      "1/1 [==============================] - 0s 8ms/step - loss: 7.1456 - mae: 7.1456\n",
      "Epoch 54/100\n",
      "1/1 [==============================] - 0s 8ms/step - loss: 7.1400 - mae: 7.1400\n",
      "Epoch 55/100\n",
      "1/1 [==============================] - 0s 6ms/step - loss: 7.1344 - mae: 7.1344\n",
      "Epoch 56/100\n",
      "1/1 [==============================] - 0s 7ms/step - loss: 7.1287 - mae: 7.1287\n",
      "Epoch 57/100\n",
      "1/1 [==============================] - 0s 7ms/step - loss: 7.1231 - mae: 7.1231\n",
      "Epoch 58/100\n",
      "1/1 [==============================] - 0s 5ms/step - loss: 7.1175 - mae: 7.1175\n",
      "Epoch 59/100\n",
      "1/1 [==============================] - 0s 6ms/step - loss: 7.1119 - mae: 7.1119\n",
      "Epoch 60/100\n",
      "1/1 [==============================] - 0s 7ms/step - loss: 7.1063 - mae: 7.1063\n",
      "Epoch 61/100\n",
      "1/1 [==============================] - 0s 6ms/step - loss: 7.1006 - mae: 7.1006\n",
      "Epoch 62/100\n",
      "1/1 [==============================] - 0s 9ms/step - loss: 7.0950 - mae: 7.0950\n",
      "Epoch 63/100\n",
      "1/1 [==============================] - 0s 9ms/step - loss: 7.0894 - mae: 7.0894\n",
      "Epoch 64/100\n",
      "1/1 [==============================] - 0s 11ms/step - loss: 7.0838 - mae: 7.0838\n",
      "Epoch 65/100\n",
      "1/1 [==============================] - 0s 7ms/step - loss: 7.0781 - mae: 7.0781\n",
      "Epoch 66/100\n",
      "1/1 [==============================] - 0s 8ms/step - loss: 7.0725 - mae: 7.0725\n",
      "Epoch 67/100\n",
      "1/1 [==============================] - 0s 9ms/step - loss: 7.0669 - mae: 7.0669\n",
      "Epoch 68/100\n",
      "1/1 [==============================] - 0s 8ms/step - loss: 7.0613 - mae: 7.0613\n",
      "Epoch 69/100\n",
      "1/1 [==============================] - 0s 10ms/step - loss: 7.0556 - mae: 7.0556\n",
      "Epoch 70/100\n",
      "1/1 [==============================] - 0s 9ms/step - loss: 7.0500 - mae: 7.0500\n",
      "Epoch 71/100\n",
      "1/1 [==============================] - 0s 10ms/step - loss: 7.0444 - mae: 7.0444\n",
      "Epoch 72/100\n",
      "1/1 [==============================] - 0s 6ms/step - loss: 7.0388 - mae: 7.0388\n",
      "Epoch 73/100\n",
      "1/1 [==============================] - 0s 7ms/step - loss: 7.0331 - mae: 7.0331\n",
      "Epoch 74/100\n",
      "1/1 [==============================] - 0s 8ms/step - loss: 7.0275 - mae: 7.0275\n",
      "Epoch 75/100\n",
      "1/1 [==============================] - 0s 8ms/step - loss: 7.0219 - mae: 7.0219\n",
      "Epoch 76/100\n",
      "1/1 [==============================] - 0s 9ms/step - loss: 7.0163 - mae: 7.0163\n",
      "Epoch 77/100\n",
      "1/1 [==============================] - 0s 11ms/step - loss: 7.0106 - mae: 7.0106\n",
      "Epoch 78/100\n",
      "1/1 [==============================] - 0s 13ms/step - loss: 7.0050 - mae: 7.0050\n",
      "Epoch 79/100\n",
      "1/1 [==============================] - 0s 6ms/step - loss: 6.9994 - mae: 6.9994\n",
      "Epoch 80/100\n",
      "1/1 [==============================] - 0s 7ms/step - loss: 6.9938 - mae: 6.9938\n",
      "Epoch 81/100\n",
      "1/1 [==============================] - 0s 7ms/step - loss: 6.9881 - mae: 6.9881\n",
      "Epoch 82/100\n",
      "1/1 [==============================] - 0s 10ms/step - loss: 6.9825 - mae: 6.9825\n",
      "Epoch 83/100\n",
      "1/1 [==============================] - 0s 9ms/step - loss: 6.9769 - mae: 6.9769\n",
      "Epoch 84/100\n",
      "1/1 [==============================] - 0s 9ms/step - loss: 6.9713 - mae: 6.9713\n",
      "Epoch 85/100\n",
      "1/1 [==============================] - 0s 14ms/step - loss: 6.9656 - mae: 6.9656\n",
      "Epoch 86/100\n",
      "1/1 [==============================] - 0s 11ms/step - loss: 6.9600 - mae: 6.9600\n",
      "Epoch 87/100\n",
      "1/1 [==============================] - 0s 9ms/step - loss: 6.9544 - mae: 6.9544\n",
      "Epoch 88/100\n",
      "1/1 [==============================] - 0s 7ms/step - loss: 6.9488 - mae: 6.9488\n",
      "Epoch 89/100\n",
      "1/1 [==============================] - 0s 7ms/step - loss: 6.9431 - mae: 6.9431\n",
      "Epoch 90/100\n",
      "1/1 [==============================] - 0s 7ms/step - loss: 6.9375 - mae: 6.9375\n",
      "Epoch 91/100\n",
      "1/1 [==============================] - 0s 14ms/step - loss: 6.9319 - mae: 6.9319\n",
      "Epoch 92/100\n",
      "1/1 [==============================] - 0s 9ms/step - loss: 6.9263 - mae: 6.9263\n",
      "Epoch 93/100\n",
      "1/1 [==============================] - 0s 9ms/step - loss: 6.9206 - mae: 6.9206\n",
      "Epoch 94/100\n",
      "1/1 [==============================] - 0s 7ms/step - loss: 6.9150 - mae: 6.9150\n",
      "Epoch 95/100\n",
      "1/1 [==============================] - 0s 17ms/step - loss: 6.9094 - mae: 6.9094\n",
      "Epoch 96/100\n",
      "1/1 [==============================] - 0s 6ms/step - loss: 6.9038 - mae: 6.9038\n",
      "Epoch 97/100\n",
      "1/1 [==============================] - 0s 6ms/step - loss: 6.8981 - mae: 6.8981\n",
      "Epoch 98/100\n",
      "1/1 [==============================] - 0s 10ms/step - loss: 6.8925 - mae: 6.8925\n",
      "Epoch 99/100\n",
      "1/1 [==============================] - 0s 7ms/step - loss: 6.8869 - mae: 6.8869\n",
      "Epoch 100/100\n",
      "1/1 [==============================] - 0s 8ms/step - loss: 6.8813 - mae: 6.8813\n"
     ]
    },
    {
     "data": {
      "text/plain": [
       "<keras.callbacks.History at 0x1803aa49a80>"
      ]
     },
     "execution_count": 13,
     "metadata": {},
     "output_type": "execute_result"
    }
   ],
   "source": [
    "# set random seed\n",
    "tf.random.set_seed(42)\n",
    "\n",
    "# 1. Create a model using Sequential API\n",
    "\n",
    "model=tf.keras.Sequential([\n",
    "    tf.keras.layers.Dense(1)\n",
    "])\n",
    "\n",
    "# 2. Compile the model\n",
    "\n",
    "model.compile(loss=tf.keras.losses.mae,# mae = Mean absolute error\n",
    "    optimizer=tf.keras.optimizers.SGD(),\n",
    "    metrics=[\"mae\"]\n",
    "        ), \n",
    "\n",
    "\n",
    "# 3. Fit the model\n",
    "\n",
    "model.fit(tf.expand_dims(x,axis=-1),y,epochs=100)"
   ]
  },
  {
   "cell_type": "code",
   "execution_count": 11,
   "metadata": {},
   "outputs": [],
   "source": [
    "# # Check out x and y\n",
    "\n",
    "# y_pred = model.predict([17.0])"
   ]
  },
  {
   "attachments": {},
   "cell_type": "markdown",
   "metadata": {},
   "source": [
    "# Improving the model\n",
    "\n",
    "We can improve our model, by altering the steps we took to create model."
   ]
  },
  {
   "cell_type": "code",
   "execution_count": 39,
   "metadata": {},
   "outputs": [
    {
     "name": "stdout",
     "output_type": "stream",
     "text": [
      "Epoch 1/100\n",
      "1/1 [==============================] - 1s 534ms/step - loss: 13.1820 - accuracy: 0.0000e+00\n",
      "Epoch 2/100\n",
      "1/1 [==============================] - 0s 6ms/step - loss: 12.5071 - accuracy: 0.0000e+00\n",
      "Epoch 3/100\n",
      "1/1 [==============================] - 0s 6ms/step - loss: 11.8279 - accuracy: 0.0000e+00\n",
      "Epoch 4/100\n",
      "1/1 [==============================] - 0s 8ms/step - loss: 11.1425 - accuracy: 0.0000e+00\n",
      "Epoch 5/100\n",
      "1/1 [==============================] - 0s 24ms/step - loss: 10.4484 - accuracy: 0.0000e+00\n",
      "Epoch 6/100\n",
      "1/1 [==============================] - 0s 11ms/step - loss: 9.7426 - accuracy: 0.0000e+00\n",
      "Epoch 7/100\n",
      "1/1 [==============================] - 0s 9ms/step - loss: 9.0218 - accuracy: 0.0000e+00\n",
      "Epoch 8/100\n",
      "1/1 [==============================] - 0s 20ms/step - loss: 8.2826 - accuracy: 0.0000e+00\n",
      "Epoch 9/100\n",
      "1/1 [==============================] - 0s 8ms/step - loss: 7.5221 - accuracy: 0.0000e+00\n",
      "Epoch 10/100\n",
      "1/1 [==============================] - 0s 13ms/step - loss: 6.7841 - accuracy: 0.0000e+00\n",
      "Epoch 11/100\n",
      "1/1 [==============================] - 0s 6ms/step - loss: 6.7505 - accuracy: 0.0000e+00\n",
      "Epoch 12/100\n",
      "1/1 [==============================] - 0s 14ms/step - loss: 7.0302 - accuracy: 0.0000e+00\n",
      "Epoch 13/100\n",
      "1/1 [==============================] - 0s 16ms/step - loss: 7.1932 - accuracy: 0.0000e+00\n",
      "Epoch 14/100\n",
      "1/1 [==============================] - 0s 18ms/step - loss: 7.2735 - accuracy: 0.0000e+00\n",
      "Epoch 15/100\n",
      "1/1 [==============================] - 0s 6ms/step - loss: 7.2165 - accuracy: 0.0000e+00\n",
      "Epoch 16/100\n",
      "1/1 [==============================] - 0s 6ms/step - loss: 7.0282 - accuracy: 0.0000e+00\n",
      "Epoch 17/100\n",
      "1/1 [==============================] - 0s 12ms/step - loss: 6.8276 - accuracy: 0.0000e+00\n",
      "Epoch 18/100\n",
      "1/1 [==============================] - 0s 8ms/step - loss: 6.5956 - accuracy: 0.0000e+00\n",
      "Epoch 19/100\n",
      "1/1 [==============================] - 0s 7ms/step - loss: 6.3389 - accuracy: 0.0000e+00\n",
      "Epoch 20/100\n",
      "1/1 [==============================] - 0s 9ms/step - loss: 6.0742 - accuracy: 0.0000e+00\n",
      "Epoch 21/100\n",
      "1/1 [==============================] - 0s 73ms/step - loss: 6.0195 - accuracy: 0.0000e+00\n",
      "Epoch 22/100\n",
      "1/1 [==============================] - 0s 8ms/step - loss: 5.9610 - accuracy: 0.0000e+00\n",
      "Epoch 23/100\n",
      "1/1 [==============================] - 0s 11ms/step - loss: 6.0150 - accuracy: 0.0000e+00\n",
      "Epoch 24/100\n",
      "1/1 [==============================] - 0s 10ms/step - loss: 6.0147 - accuracy: 0.0000e+00\n",
      "Epoch 25/100\n",
      "1/1 [==============================] - 0s 9ms/step - loss: 5.9084 - accuracy: 0.0000e+00\n",
      "Epoch 26/100\n",
      "1/1 [==============================] - 0s 7ms/step - loss: 5.7089 - accuracy: 0.0000e+00\n",
      "Epoch 27/100\n",
      "1/1 [==============================] - 0s 9ms/step - loss: 5.5382 - accuracy: 0.0000e+00\n",
      "Epoch 28/100\n",
      "1/1 [==============================] - 0s 10ms/step - loss: 5.4295 - accuracy: 0.0000e+00\n",
      "Epoch 29/100\n",
      "1/1 [==============================] - 0s 9ms/step - loss: 5.3177 - accuracy: 0.0000e+00\n",
      "Epoch 30/100\n",
      "1/1 [==============================] - 0s 8ms/step - loss: 5.3173 - accuracy: 0.0000e+00\n",
      "Epoch 31/100\n",
      "1/1 [==============================] - 0s 11ms/step - loss: 5.2878 - accuracy: 0.0000e+00\n",
      "Epoch 32/100\n",
      "1/1 [==============================] - 0s 12ms/step - loss: 5.2103 - accuracy: 0.0000e+00\n",
      "Epoch 33/100\n",
      "1/1 [==============================] - 0s 11ms/step - loss: 5.0891 - accuracy: 0.0000e+00\n",
      "Epoch 34/100\n",
      "1/1 [==============================] - 0s 6ms/step - loss: 4.9281 - accuracy: 0.0000e+00\n",
      "Epoch 35/100\n",
      "1/1 [==============================] - 0s 8ms/step - loss: 4.7312 - accuracy: 0.0000e+00\n",
      "Epoch 36/100\n",
      "1/1 [==============================] - 0s 7ms/step - loss: 4.6041 - accuracy: 0.0000e+00\n",
      "Epoch 37/100\n",
      "1/1 [==============================] - 0s 13ms/step - loss: 4.5056 - accuracy: 0.0000e+00\n",
      "Epoch 38/100\n",
      "1/1 [==============================] - 0s 12ms/step - loss: 4.4016 - accuracy: 0.0000e+00\n",
      "Epoch 39/100\n",
      "1/1 [==============================] - 0s 8ms/step - loss: 4.2957 - accuracy: 0.0000e+00\n",
      "Epoch 40/100\n",
      "1/1 [==============================] - 0s 9ms/step - loss: 4.1312 - accuracy: 0.0000e+00\n",
      "Epoch 41/100\n",
      "1/1 [==============================] - 0s 8ms/step - loss: 3.9818 - accuracy: 0.0000e+00\n",
      "Epoch 42/100\n",
      "1/1 [==============================] - 0s 6ms/step - loss: 3.8253 - accuracy: 0.0000e+00\n",
      "Epoch 43/100\n",
      "1/1 [==============================] - 0s 8ms/step - loss: 3.6672 - accuracy: 0.0000e+00\n",
      "Epoch 44/100\n",
      "1/1 [==============================] - 0s 8ms/step - loss: 3.5365 - accuracy: 0.0000e+00\n",
      "Epoch 45/100\n",
      "1/1 [==============================] - 0s 10ms/step - loss: 3.3535 - accuracy: 0.0000e+00\n",
      "Epoch 46/100\n",
      "1/1 [==============================] - 0s 8ms/step - loss: 3.1903 - accuracy: 0.0000e+00\n",
      "Epoch 47/100\n",
      "1/1 [==============================] - 0s 7ms/step - loss: 3.0254 - accuracy: 0.0000e+00\n",
      "Epoch 48/100\n",
      "1/1 [==============================] - 0s 12ms/step - loss: 2.8498 - accuracy: 0.0000e+00\n",
      "Epoch 49/100\n",
      "1/1 [==============================] - 0s 11ms/step - loss: 2.6844 - accuracy: 0.0000e+00\n",
      "Epoch 50/100\n",
      "1/1 [==============================] - 0s 10ms/step - loss: 2.4540 - accuracy: 0.0000e+00\n",
      "Epoch 51/100\n",
      "1/1 [==============================] - 0s 7ms/step - loss: 2.2346 - accuracy: 0.0000e+00\n",
      "Epoch 52/100\n",
      "1/1 [==============================] - 0s 7ms/step - loss: 2.0468 - accuracy: 0.0000e+00\n",
      "Epoch 53/100\n",
      "1/1 [==============================] - 0s 7ms/step - loss: 1.8348 - accuracy: 0.0000e+00\n",
      "Epoch 54/100\n",
      "1/1 [==============================] - 0s 10ms/step - loss: 1.5549 - accuracy: 0.0000e+00\n",
      "Epoch 55/100\n",
      "1/1 [==============================] - 0s 11ms/step - loss: 1.3569 - accuracy: 0.0000e+00\n",
      "Epoch 56/100\n",
      "1/1 [==============================] - 0s 8ms/step - loss: 1.1129 - accuracy: 0.0000e+00\n",
      "Epoch 57/100\n",
      "1/1 [==============================] - 0s 8ms/step - loss: 0.8263 - accuracy: 0.0000e+00\n",
      "Epoch 58/100\n",
      "1/1 [==============================] - 0s 37ms/step - loss: 0.6080 - accuracy: 0.0000e+00\n",
      "Epoch 59/100\n",
      "1/1 [==============================] - 0s 8ms/step - loss: 0.2654 - accuracy: 0.0000e+00\n",
      "Epoch 60/100\n",
      "1/1 [==============================] - 0s 12ms/step - loss: 0.1993 - accuracy: 0.0000e+00\n",
      "Epoch 61/100\n",
      "1/1 [==============================] - 0s 10ms/step - loss: 0.3320 - accuracy: 0.0000e+00\n",
      "Epoch 62/100\n",
      "1/1 [==============================] - 0s 9ms/step - loss: 0.5022 - accuracy: 0.0000e+00\n",
      "Epoch 63/100\n",
      "1/1 [==============================] - 0s 11ms/step - loss: 0.6316 - accuracy: 0.0000e+00\n",
      "Epoch 64/100\n",
      "1/1 [==============================] - 0s 12ms/step - loss: 0.7574 - accuracy: 0.0000e+00\n",
      "Epoch 65/100\n",
      "1/1 [==============================] - 0s 12ms/step - loss: 0.6993 - accuracy: 0.0000e+00\n",
      "Epoch 66/100\n",
      "1/1 [==============================] - 0s 9ms/step - loss: 0.8385 - accuracy: 0.0000e+00\n",
      "Epoch 67/100\n",
      "1/1 [==============================] - 0s 10ms/step - loss: 0.8232 - accuracy: 0.0000e+00\n",
      "Epoch 68/100\n",
      "1/1 [==============================] - 0s 6ms/step - loss: 0.6089 - accuracy: 0.0000e+00\n",
      "Epoch 69/100\n",
      "1/1 [==============================] - 0s 7ms/step - loss: 0.6624 - accuracy: 0.0000e+00\n",
      "Epoch 70/100\n",
      "1/1 [==============================] - 0s 6ms/step - loss: 0.6881 - accuracy: 0.0000e+00\n",
      "Epoch 71/100\n",
      "1/1 [==============================] - 0s 7ms/step - loss: 0.4095 - accuracy: 0.0000e+00\n",
      "Epoch 72/100\n",
      "1/1 [==============================] - 0s 6ms/step - loss: 0.2376 - accuracy: 0.0000e+00\n",
      "Epoch 73/100\n",
      "1/1 [==============================] - 0s 6ms/step - loss: 0.4574 - accuracy: 0.0000e+00\n",
      "Epoch 74/100\n",
      "1/1 [==============================] - 0s 8ms/step - loss: 0.3700 - accuracy: 0.0000e+00\n",
      "Epoch 75/100\n",
      "1/1 [==============================] - 0s 9ms/step - loss: 0.3439 - accuracy: 0.0000e+00\n",
      "Epoch 76/100\n",
      "1/1 [==============================] - 0s 10ms/step - loss: 0.5023 - accuracy: 0.0000e+00\n",
      "Epoch 77/100\n",
      "1/1 [==============================] - 0s 9ms/step - loss: 0.4859 - accuracy: 0.0000e+00\n",
      "Epoch 78/100\n",
      "1/1 [==============================] - 0s 8ms/step - loss: 0.3219 - accuracy: 0.0000e+00\n",
      "Epoch 79/100\n",
      "1/1 [==============================] - 0s 8ms/step - loss: 0.3975 - accuracy: 0.0000e+00\n",
      "Epoch 80/100\n",
      "1/1 [==============================] - 0s 9ms/step - loss: 0.3645 - accuracy: 0.0000e+00\n",
      "Epoch 81/100\n",
      "1/1 [==============================] - 0s 8ms/step - loss: 0.1427 - accuracy: 0.0000e+00\n",
      "Epoch 82/100\n",
      "1/1 [==============================] - 0s 8ms/step - loss: 0.0748 - accuracy: 0.0000e+00\n",
      "Epoch 83/100\n",
      "1/1 [==============================] - 0s 11ms/step - loss: 0.1438 - accuracy: 0.0000e+00\n",
      "Epoch 84/100\n",
      "1/1 [==============================] - 0s 7ms/step - loss: 0.1805 - accuracy: 0.0000e+00\n",
      "Epoch 85/100\n",
      "1/1 [==============================] - 0s 8ms/step - loss: 0.3012 - accuracy: 0.0000e+00\n",
      "Epoch 86/100\n",
      "1/1 [==============================] - 0s 6ms/step - loss: 0.2711 - accuracy: 0.0000e+00\n",
      "Epoch 87/100\n",
      "1/1 [==============================] - 0s 8ms/step - loss: 0.2548 - accuracy: 0.0000e+00\n",
      "Epoch 88/100\n",
      "1/1 [==============================] - 0s 8ms/step - loss: 0.2351 - accuracy: 0.0000e+00\n",
      "Epoch 89/100\n",
      "1/1 [==============================] - 0s 9ms/step - loss: 0.0871 - accuracy: 0.0000e+00\n",
      "Epoch 90/100\n",
      "1/1 [==============================] - 0s 7ms/step - loss: 0.0686 - accuracy: 0.0000e+00\n",
      "Epoch 91/100\n",
      "1/1 [==============================] - 0s 8ms/step - loss: 0.2192 - accuracy: 0.0000e+00\n",
      "Epoch 92/100\n",
      "1/1 [==============================] - 0s 7ms/step - loss: 0.2195 - accuracy: 0.0000e+00\n",
      "Epoch 93/100\n",
      "1/1 [==============================] - 0s 8ms/step - loss: 0.2529 - accuracy: 0.0000e+00\n",
      "Epoch 94/100\n",
      "1/1 [==============================] - 0s 6ms/step - loss: 0.2992 - accuracy: 0.0000e+00\n",
      "Epoch 95/100\n",
      "1/1 [==============================] - 0s 9ms/step - loss: 0.1965 - accuracy: 0.0000e+00\n",
      "Epoch 96/100\n",
      "1/1 [==============================] - 0s 9ms/step - loss: 0.2204 - accuracy: 0.0000e+00\n",
      "Epoch 97/100\n",
      "1/1 [==============================] - 0s 7ms/step - loss: 0.1982 - accuracy: 0.0000e+00\n",
      "Epoch 98/100\n",
      "1/1 [==============================] - 0s 45ms/step - loss: 0.1085 - accuracy: 0.0000e+00\n",
      "Epoch 99/100\n",
      "1/1 [==============================] - 0s 10ms/step - loss: 0.1370 - accuracy: 0.0000e+00\n",
      "Epoch 100/100\n",
      "1/1 [==============================] - 0s 14ms/step - loss: 0.1815 - accuracy: 0.0000e+00\n"
     ]
    },
    {
     "data": {
      "text/plain": [
       "<keras.callbacks.History at 0x18107d30c70>"
      ]
     },
     "execution_count": 39,
     "metadata": {},
     "output_type": "execute_result"
    }
   ],
   "source": [
    "#rebuild model\n",
    "\n",
    "# set random seed\n",
    "tf.random.set_seed(42)\n",
    "\n",
    "# 1. Create a model using Sequential API\n",
    "\n",
    "model=tf.keras.Sequential([\n",
    "   \n",
    "    tf.keras.layers.Dense(50, activation=None),\n",
    "    \n",
    "    \n",
    "    tf.keras.layers.Dense(1)\n",
    "])\n",
    "\n",
    "# 2. Compile the model\n",
    "\n",
    "model.compile(loss=tf.keras.losses.mae,# mae = Mean absolute error\n",
    "    optimizer=tf.keras.optimizers.Adam(learning_rate=0.01),\n",
    "    metrics=['accuracy']\n",
    "        ), \n",
    "\n",
    "\n",
    "# 3. Fit the model\n",
    "\n",
    "model.fit(tf.expand_dims(x,axis=-1),y,epochs=100)"
   ]
  },
  {
   "cell_type": "code",
   "execution_count": 40,
   "metadata": {},
   "outputs": [
    {
     "data": {
      "text/plain": [
       "(<tf.Tensor: shape=(8,), dtype=float32, numpy=array([-7., -4., -1.,  2.,  5.,  8., 11., 14.], dtype=float32)>,\n",
       " <tf.Tensor: shape=(8,), dtype=float32, numpy=array([ 3.,  6.,  9., 12., 15., 18., 21., 24.], dtype=float32)>)"
      ]
     },
     "execution_count": 40,
     "metadata": {},
     "output_type": "execute_result"
    }
   ],
   "source": [
    "x,y"
   ]
  },
  {
   "cell_type": "code",
   "execution_count": 45,
   "metadata": {},
   "outputs": [
    {
     "data": {
      "text/plain": [
       "array([[110.56458]], dtype=float32)"
      ]
     },
     "execution_count": 45,
     "metadata": {},
     "output_type": "execute_result"
    }
   ],
   "source": [
    "model.predict([100])"
   ]
  },
  {
   "attachments": {},
   "cell_type": "markdown",
   "metadata": {},
   "source": [
    "## Evaluating a model\n",
    "\n",
    "In practice, a typical workflow you'll go through when building neural network is:\n",
    "\n",
    "```\n",
    "Build a model -> fit it  -> evaluate it -> tweak a model -> fit it -> evaluate -> tweak a model -> fit it -> evaluate it...\n",
    "\n",
    "```"
   ]
  },
  {
   "attachments": {},
   "cell_type": "markdown",
   "metadata": {},
   "source": [
    "When it comes to evaluating... there are 3 words you should memorize \n",
    "\n",
    ">\"Visualize, Visualize, Visualize\""
   ]
  },
  {
   "cell_type": "code",
   "execution_count": 3,
   "metadata": {},
   "outputs": [
    {
     "data": {
      "text/plain": [
       "<tf.Tensor: shape=(50,), dtype=int32, numpy=\n",
       "array([-100,  -96,  -92,  -88,  -84,  -80,  -76,  -72,  -68,  -64,  -60,\n",
       "        -56,  -52,  -48,  -44,  -40,  -36,  -32,  -28,  -24,  -20,  -16,\n",
       "        -12,   -8,   -4,    0,    4,    8,   12,   16,   20,   24,   28,\n",
       "         32,   36,   40,   44,   48,   52,   56,   60,   64,   68,   72,\n",
       "         76,   80,   84,   88,   92,   96])>"
      ]
     },
     "execution_count": 3,
     "metadata": {},
     "output_type": "execute_result"
    }
   ],
   "source": [
    "# Make a bigger dataset\n",
    "\n",
    "X=tf.range(-100,100,4)\n",
    "X"
   ]
  },
  {
   "cell_type": "code",
   "execution_count": 4,
   "metadata": {},
   "outputs": [
    {
     "data": {
      "text/plain": [
       "<tf.Tensor: shape=(50,), dtype=int32, numpy=\n",
       "array([-90, -86, -82, -78, -74, -70, -66, -62, -58, -54, -50, -46, -42,\n",
       "       -38, -34, -30, -26, -22, -18, -14, -10,  -6,  -2,   2,   6,  10,\n",
       "        14,  18,  22,  26,  30,  34,  38,  42,  46,  50,  54,  58,  62,\n",
       "        66,  70,  74,  78,  82,  86,  90,  94,  98, 102, 106])>"
      ]
     },
     "execution_count": 4,
     "metadata": {},
     "output_type": "execute_result"
    }
   ],
   "source": [
    "# Make the labels for the dataset\n",
    "\n",
    "y=X+10\n",
    "y"
   ]
  },
  {
   "cell_type": "code",
   "execution_count": 5,
   "metadata": {},
   "outputs": [
    {
     "data": {
      "text/plain": [
       "<matplotlib.collections.PathCollection at 0x2636e747f10>"
      ]
     },
     "execution_count": 5,
     "metadata": {},
     "output_type": "execute_result"
    },
    {
     "data": {
      "image/png": "[encoded data removed]",
      "text/plain": [
       "<Figure size 640x480 with 1 Axes>"
      ]
     },
     "metadata": {},
     "output_type": "display_data"
    }
   ],
   "source": [
    "# Visualize the data\n",
    "plt.scatter(X,y)\n"
   ]
  },
  {
   "attachments": {},
   "cell_type": "markdown",
   "metadata": {},
   "source": [
    "### The 3 sets...\n",
    "\n",
    "* Training set - the model learns from this data, which is typacilly 70-80% of the total data you have available.\n",
    "* Validation set - the model gets tuned on this data, which is typacilly 10-15% of the data avilable.\n",
    "* Test set - the model gets evaluated on this data to test what is has learned, this set is typically 10-15% of the total data available."
   ]
  },
  {
   "cell_type": "code",
   "execution_count": 17,
   "metadata": {},
   "outputs": [
    {
     "data": {
      "text/plain": [
       "(40, 10, 40, 10)"
      ]
     },
     "execution_count": 17,
     "metadata": {},
     "output_type": "execute_result"
    }
   ],
   "source": [
    "# Splitting dataset \n",
    "\n",
    "X_train= X[:40]\n",
    "X_test=X[40:]\n",
    "y_train=y[:40]\n",
    "y_test=y[40:]\n",
    "\n",
    "len(X_train),len(X_test),len(y_train),len(y_test)"
   ]
  },
  {
   "attachments": {},
   "cell_type": "markdown",
   "metadata": {},
   "source": [
    "### visualizing the data\n",
    "\n",
    "Now we've got our data in training and test sets... let's visualize the data"
   ]
  },
  {
   "cell_type": "code",
   "execution_count": 18,
   "metadata": {},
   "outputs": [
    {
     "data": {
      "text/plain": [
       "<matplotlib.legend.Legend at 0x2637f87b460>"
      ]
     },
     "execution_count": 18,
     "metadata": {},
     "output_type": "execute_result"
    },
    {
     "data": {
      "image/png": "[encoded data removed]",
      "text/plain": [
       "<Figure size 1000x700 with 1 Axes>"
      ]
     },
     "metadata": {},
     "output_type": "display_data"
    }
   ],
   "source": [
    "plt.figure(figsize=(10,7))\n",
    "# plot training in blue\n",
    "plt.scatter(X_train,y_train,c=\"b\",label=\"Training data\")\n",
    "# plot test data in green\n",
    "plt.scatter(X_test,y_test,c=\"g\",label=\"Testing data\")\n",
    "# Show a legend\n",
    "plt.legend()\n"
   ]
  },
  {
   "cell_type": "code",
   "execution_count": 19,
   "metadata": {},
   "outputs": [
    {
     "data": {
      "text/plain": [
       "(None,)"
      ]
     },
     "execution_count": 19,
     "metadata": {},
     "output_type": "execute_result"
    }
   ],
   "source": [
    "# Let's have a look at how to build a neural network for our data\n",
    "\n",
    "# 1. Create a  model\n",
    "model=tf.keras.Sequential([    \n",
    "    tf.keras.layers.Dense(1)\n",
    "])\n",
    "\n",
    "# 2. Compile the model\n",
    "\n",
    "model.compile(loss=tf.keras.losses.mae,  # mae = Mean absolute error\n",
    "    optimizer=tf.keras.optimizers.SGD(),\n",
    "    metrics=[\"mae\"]\n",
    "        ), \n"
   ]
  },
  {
   "attachments": {},
   "cell_type": "markdown",
   "metadata": {},
   "source": [
    "### Visualizing the model"
   ]
  },
  {
   "cell_type": "code",
   "execution_count": 21,
   "metadata": {},
   "outputs": [
    {
     "ename": "ValueError",
     "evalue": "This model has not yet been built. Build the model first by calling `build()` or by calling the model on a batch of data.",
     "output_type": "error",
     "traceback": [
      "\u001b[1;31m---------------------------------------------------------------------------\u001b[0m",
      "\u001b[1;31mValueError\u001b[0m                                Traceback (most recent call last)",
      "Cell \u001b[1;32mIn[21], line 1\u001b[0m\n\u001b[1;32m----> 1\u001b[0m model\u001b[39m.\u001b[39;49msummary()\n",
      "File \u001b[1;32mc:\\anaconda3\\envs\\tf2.4\\lib\\site-packages\\keras\\engine\\training.py:2775\u001b[0m, in \u001b[0;36mModel.summary\u001b[1;34m(self, line_length, positions, print_fn, expand_nested, show_trainable)\u001b[0m\n\u001b[0;32m   2753\u001b[0m \u001b[39m\"\"\"Prints a string summary of the network.\u001b[39;00m\n\u001b[0;32m   2754\u001b[0m \n\u001b[0;32m   2755\u001b[0m \u001b[39mArgs:\u001b[39;00m\n\u001b[1;32m   (...)\u001b[0m\n\u001b[0;32m   2772\u001b[0m \u001b[39m    ValueError: if `summary()` is called before the model is built.\u001b[39;00m\n\u001b[0;32m   2773\u001b[0m \u001b[39m\"\"\"\u001b[39;00m\n\u001b[0;32m   2774\u001b[0m \u001b[39mif\u001b[39;00m \u001b[39mnot\u001b[39;00m \u001b[39mself\u001b[39m\u001b[39m.\u001b[39mbuilt:\n\u001b[1;32m-> 2775\u001b[0m   \u001b[39mraise\u001b[39;00m \u001b[39mValueError\u001b[39;00m(\n\u001b[0;32m   2776\u001b[0m       \u001b[39m'\u001b[39m\u001b[39mThis model has not yet been built. \u001b[39m\u001b[39m'\u001b[39m\n\u001b[0;32m   2777\u001b[0m       \u001b[39m'\u001b[39m\u001b[39mBuild the model first by calling `build()` or by calling \u001b[39m\u001b[39m'\u001b[39m\n\u001b[0;32m   2778\u001b[0m       \u001b[39m'\u001b[39m\u001b[39mthe model on a batch of data.\u001b[39m\u001b[39m'\u001b[39m)\n\u001b[0;32m   2779\u001b[0m layer_utils\u001b[39m.\u001b[39mprint_summary(\n\u001b[0;32m   2780\u001b[0m     \u001b[39mself\u001b[39m,\n\u001b[0;32m   2781\u001b[0m     line_length\u001b[39m=\u001b[39mline_length,\n\u001b[1;32m   (...)\u001b[0m\n\u001b[0;32m   2784\u001b[0m     expand_nested\u001b[39m=\u001b[39mexpand_nested,\n\u001b[0;32m   2785\u001b[0m     show_trainable\u001b[39m=\u001b[39mshow_trainable)\n",
      "\u001b[1;31mValueError\u001b[0m: This model has not yet been built. Build the model first by calling `build()` or by calling the model on a batch of data."
     ]
    }
   ],
   "source": [
    "model.summary()"
   ]
  },
  {
   "cell_type": "code",
   "execution_count": 50,
   "metadata": {},
   "outputs": [
    {
     "data": {
      "text/plain": [
       "(None,)"
      ]
     },
     "execution_count": 50,
     "metadata": {},
     "output_type": "execute_result"
    }
   ],
   "source": [
    "# Let's Create a model which builds atuomatically by defining the input_shape argument\n",
    "\n",
    "tf.random.set_seed(42)\n",
    "\n",
    "# Create a model (same as above)\n",
    "\n",
    "model=tf.keras.Sequential([    \n",
    "    tf.keras.layers.Dense(15,input_shape=[1],name=\"input_layer\"),\n",
    "    tf.keras.layers.Dense(1,name=\"output_layer\")\n",
    "],name=\"model_1\")\n",
    "\n",
    "# 2. Compile the model\n",
    "\n",
    "model.compile(loss=tf.keras.losses.mae,  # mae = Mean absolute error\n",
    "    optimizer=tf.keras.optimizers.Adam(learning_rate=0.1),\n",
    "    metrics=[\"mae\"]\n",
    "        ), "
   ]
  },
  {
   "cell_type": "code",
   "execution_count": 51,
   "metadata": {},
   "outputs": [
    {
     "name": "stdout",
     "output_type": "stream",
     "text": [
      "Model: \"model_1\"\n",
      "_________________________________________________________________\n",
      " Layer (type)                Output Shape              Param #   \n",
      "=================================================================\n",
      " input_layer (Dense)         (None, 15)                30        \n",
      "                                                                 \n",
      " output_layer (Dense)        (None, 1)                 16        \n",
      "                                                                 \n",
      "=================================================================\n",
      "Total params: 46\n",
      "Trainable params: 46\n",
      "Non-trainable params: 0\n",
      "_________________________________________________________________\n"
     ]
    }
   ],
   "source": [
    "model.summary()"
   ]
  },
  {
   "attachments": {},
   "cell_type": "markdown",
   "metadata": {},
   "source": [
    "* Total params - total number of parameters in the model.\n",
    "* Trainable parameters - these are the parameters (patterns) the model update as it trains\n",
    "* Non-trainable params - these parameters aren't updated during training(this is typical when you bring in already learn patterns or parameters from other models during **transfer learning** )."
   ]
  },
  {
   "cell_type": "code",
   "execution_count": 52,
   "metadata": {},
   "outputs": [
    {
     "name": "stdout",
     "output_type": "stream",
     "text": [
      "Epoch 1/100\n",
      "2/2 [==============================] - 0s 5ms/step - loss: 17.0150 - mae: 17.0150\n",
      "Epoch 2/100\n",
      "2/2 [==============================] - 0s 8ms/step - loss: 17.6778 - mae: 17.6778\n",
      "Epoch 3/100\n",
      "2/2 [==============================] - 0s 10ms/step - loss: 17.1874 - mae: 17.1874\n",
      "Epoch 4/100\n",
      "2/2 [==============================] - 0s 10ms/step - loss: 17.9152 - mae: 17.9152\n",
      "Epoch 5/100\n",
      "2/2 [==============================] - 0s 9ms/step - loss: 7.1724 - mae: 7.1724\n",
      "Epoch 6/100\n",
      "2/2 [==============================] - 0s 7ms/step - loss: 12.4098 - mae: 12.4098\n",
      "Epoch 7/100\n",
      "2/2 [==============================] - 0s 33ms/step - loss: 7.5898 - mae: 7.5898\n",
      "Epoch 8/100\n",
      "2/2 [==============================] - 0s 11ms/step - loss: 9.0963 - mae: 9.0963\n",
      "Epoch 9/100\n",
      "2/2 [==============================] - 0s 13ms/step - loss: 5.8359 - mae: 5.8359\n",
      "Epoch 10/100\n",
      "2/2 [==============================] - 0s 11ms/step - loss: 7.5949 - mae: 7.5949\n",
      "Epoch 11/100\n",
      "2/2 [==============================] - 0s 15ms/step - loss: 5.3543 - mae: 5.3543\n",
      "Epoch 12/100\n",
      "2/2 [==============================] - 0s 10ms/step - loss: 7.7400 - mae: 7.7400\n",
      "Epoch 13/100\n",
      "2/2 [==============================] - 0s 15ms/step - loss: 9.5468 - mae: 9.5468\n",
      "Epoch 14/100\n",
      "2/2 [==============================] - 0s 5ms/step - loss: 3.2910 - mae: 3.2910\n",
      "Epoch 15/100\n",
      "2/2 [==============================] - 0s 9ms/step - loss: 9.6907 - mae: 9.6907\n",
      "Epoch 16/100\n",
      "2/2 [==============================] - 0s 9ms/step - loss: 3.8489 - mae: 3.8489\n",
      "Epoch 17/100\n",
      "2/2 [==============================] - 0s 14ms/step - loss: 5.4172 - mae: 5.4172\n",
      "Epoch 18/100\n",
      "2/2 [==============================] - 0s 12ms/step - loss: 2.6517 - mae: 2.6517\n",
      "Epoch 19/100\n",
      "2/2 [==============================] - 0s 6ms/step - loss: 4.6555 - mae: 4.6555\n",
      "Epoch 20/100\n",
      "2/2 [==============================] - 0s 8ms/step - loss: 1.0921 - mae: 1.0921\n",
      "Epoch 21/100\n",
      "2/2 [==============================] - 0s 7ms/step - loss: 1.7663 - mae: 1.7663\n",
      "Epoch 22/100\n",
      "2/2 [==============================] - 0s 8ms/step - loss: 1.4954 - mae: 1.4954\n",
      "Epoch 23/100\n",
      "2/2 [==============================] - 0s 13ms/step - loss: 1.5860 - mae: 1.5860\n",
      "Epoch 24/100\n",
      "2/2 [==============================] - 0s 6ms/step - loss: 1.0212 - mae: 1.0212\n",
      "Epoch 25/100\n",
      "2/2 [==============================] - 0s 14ms/step - loss: 0.4980 - mae: 0.4980\n",
      "Epoch 26/100\n",
      "2/2 [==============================] - 0s 13ms/step - loss: 0.5050 - mae: 0.5050\n",
      "Epoch 27/100\n",
      "2/2 [==============================] - 0s 12ms/step - loss: 1.3646 - mae: 1.3646\n",
      "Epoch 28/100\n",
      "2/2 [==============================] - 0s 6ms/step - loss: 3.1179 - mae: 3.1179\n",
      "Epoch 29/100\n",
      "2/2 [==============================] - 0s 6ms/step - loss: 2.0695 - mae: 2.0695\n",
      "Epoch 30/100\n",
      "2/2 [==============================] - 0s 6ms/step - loss: 0.7713 - mae: 0.7713\n",
      "Epoch 31/100\n",
      "2/2 [==============================] - 0s 8ms/step - loss: 0.6457 - mae: 0.6457\n",
      "Epoch 32/100\n",
      "2/2 [==============================] - 0s 7ms/step - loss: 2.4459 - mae: 2.4459\n",
      "Epoch 33/100\n",
      "2/2 [==============================] - 0s 7ms/step - loss: 4.0443 - mae: 4.0443\n",
      "Epoch 34/100\n",
      "2/2 [==============================] - 0s 7ms/step - loss: 4.1156 - mae: 4.1156\n",
      "Epoch 35/100\n",
      "2/2 [==============================] - 0s 29ms/step - loss: 3.2137 - mae: 3.2137\n",
      "Epoch 36/100\n",
      "2/2 [==============================] - 0s 8ms/step - loss: 2.9658 - mae: 2.9658\n",
      "Epoch 37/100\n",
      "2/2 [==============================] - 0s 10ms/step - loss: 3.0745 - mae: 3.0745\n",
      "Epoch 38/100\n",
      "2/2 [==============================] - 0s 8ms/step - loss: 1.7396 - mae: 1.7396\n",
      "Epoch 39/100\n",
      "2/2 [==============================] - 0s 8ms/step - loss: 3.3197 - mae: 3.3197\n",
      "Epoch 40/100\n",
      "2/2 [==============================] - 0s 6ms/step - loss: 1.2912 - mae: 1.2912\n",
      "Epoch 41/100\n",
      "2/2 [==============================] - 0s 7ms/step - loss: 1.0781 - mae: 1.0781\n",
      "Epoch 42/100\n",
      "2/2 [==============================] - 0s 7ms/step - loss: 3.3062 - mae: 3.3062\n",
      "Epoch 43/100\n",
      "2/2 [==============================] - 0s 8ms/step - loss: 1.7335 - mae: 1.7335\n",
      "Epoch 44/100\n",
      "2/2 [==============================] - 0s 11ms/step - loss: 1.1328 - mae: 1.1328\n",
      "Epoch 45/100\n",
      "2/2 [==============================] - 0s 7ms/step - loss: 4.3755 - mae: 4.3755\n",
      "Epoch 46/100\n",
      "2/2 [==============================] - 0s 8ms/step - loss: 0.6548 - mae: 0.6548\n",
      "Epoch 47/100\n",
      "2/2 [==============================] - 0s 8ms/step - loss: 6.2137 - mae: 6.2137\n",
      "Epoch 48/100\n",
      "2/2 [==============================] - 0s 7ms/step - loss: 4.3855 - mae: 4.3855\n",
      "Epoch 49/100\n",
      "2/2 [==============================] - 0s 7ms/step - loss: 3.9495 - mae: 3.9495\n",
      "Epoch 50/100\n",
      "2/2 [==============================] - 0s 7ms/step - loss: 5.0451 - mae: 5.0451\n",
      "Epoch 51/100\n",
      "2/2 [==============================] - 0s 7ms/step - loss: 1.9358 - mae: 1.9358\n",
      "Epoch 52/100\n",
      "2/2 [==============================] - 0s 8ms/step - loss: 1.7355 - mae: 1.7355\n",
      "Epoch 53/100\n",
      "2/2 [==============================] - 0s 7ms/step - loss: 1.8966 - mae: 1.8966\n",
      "Epoch 54/100\n",
      "2/2 [==============================] - 0s 8ms/step - loss: 4.0501 - mae: 4.0501\n",
      "Epoch 55/100\n",
      "2/2 [==============================] - 0s 6ms/step - loss: 4.2429 - mae: 4.2429\n",
      "Epoch 56/100\n",
      "2/2 [==============================] - 0s 11ms/step - loss: 2.4607 - mae: 2.4607\n",
      "Epoch 57/100\n",
      "2/2 [==============================] - 0s 9ms/step - loss: 2.6824 - mae: 2.6824\n",
      "Epoch 58/100\n",
      "2/2 [==============================] - 0s 6ms/step - loss: 4.0407 - mae: 4.0407\n",
      "Epoch 59/100\n",
      "2/2 [==============================] - 0s 10ms/step - loss: 4.8818 - mae: 4.8818\n",
      "Epoch 60/100\n",
      "2/2 [==============================] - 0s 8ms/step - loss: 1.4625 - mae: 1.4625\n",
      "Epoch 61/100\n",
      "2/2 [==============================] - 0s 6ms/step - loss: 2.5416 - mae: 2.5416\n",
      "Epoch 62/100\n",
      "2/2 [==============================] - 0s 10ms/step - loss: 3.1181 - mae: 3.1181\n",
      "Epoch 63/100\n",
      "2/2 [==============================] - 0s 12ms/step - loss: 2.3162 - mae: 2.3162\n",
      "Epoch 64/100\n",
      "2/2 [==============================] - 0s 11ms/step - loss: 1.6182 - mae: 1.6182\n",
      "Epoch 65/100\n",
      "2/2 [==============================] - 0s 9ms/step - loss: 2.2913 - mae: 2.2913\n",
      "Epoch 66/100\n",
      "2/2 [==============================] - 0s 7ms/step - loss: 1.5304 - mae: 1.5304\n",
      "Epoch 67/100\n",
      "2/2 [==============================] - 0s 7ms/step - loss: 2.1261 - mae: 2.1261\n",
      "Epoch 68/100\n",
      "2/2 [==============================] - 0s 8ms/step - loss: 2.9065 - mae: 2.9065\n",
      "Epoch 69/100\n",
      "2/2 [==============================] - 0s 8ms/step - loss: 2.4472 - mae: 2.4472\n",
      "Epoch 70/100\n",
      "2/2 [==============================] - 0s 8ms/step - loss: 1.9411 - mae: 1.9411\n",
      "Epoch 71/100\n",
      "2/2 [==============================] - 0s 7ms/step - loss: 0.5729 - mae: 0.5729\n",
      "Epoch 72/100\n",
      "2/2 [==============================] - 0s 6ms/step - loss: 1.0573 - mae: 1.0573\n",
      "Epoch 73/100\n",
      "2/2 [==============================] - 0s 8ms/step - loss: 1.5452 - mae: 1.5452\n",
      "Epoch 74/100\n",
      "2/2 [==============================] - 0s 28ms/step - loss: 0.6733 - mae: 0.6733\n",
      "Epoch 75/100\n",
      "2/2 [==============================] - 0s 7ms/step - loss: 0.6773 - mae: 0.6773\n",
      "Epoch 76/100\n",
      "2/2 [==============================] - 0s 7ms/step - loss: 2.1898 - mae: 2.1898\n",
      "Epoch 77/100\n",
      "2/2 [==============================] - 0s 8ms/step - loss: 1.0116 - mae: 1.0116\n",
      "Epoch 78/100\n",
      "2/2 [==============================] - 0s 9ms/step - loss: 4.0806 - mae: 4.0806\n",
      "Epoch 79/100\n",
      "2/2 [==============================] - 0s 8ms/step - loss: 1.7520 - mae: 1.7520\n",
      "Epoch 80/100\n",
      "2/2 [==============================] - 0s 9ms/step - loss: 3.4196 - mae: 3.4196\n",
      "Epoch 81/100\n",
      "2/2 [==============================] - 0s 7ms/step - loss: 0.8279 - mae: 0.8279\n",
      "Epoch 82/100\n",
      "2/2 [==============================] - 0s 7ms/step - loss: 1.5603 - mae: 1.5603\n",
      "Epoch 83/100\n",
      "2/2 [==============================] - 0s 5ms/step - loss: 2.6680 - mae: 2.6680\n",
      "Epoch 84/100\n",
      "2/2 [==============================] - 0s 7ms/step - loss: 1.7436 - mae: 1.7436\n",
      "Epoch 85/100\n",
      "2/2 [==============================] - 0s 6ms/step - loss: 2.1128 - mae: 2.1128\n",
      "Epoch 86/100\n",
      "2/2 [==============================] - 0s 8ms/step - loss: 0.9260 - mae: 0.9260\n",
      "Epoch 87/100\n",
      "2/2 [==============================] - 0s 7ms/step - loss: 0.2105 - mae: 0.2105\n",
      "Epoch 88/100\n",
      "2/2 [==============================] - 0s 7ms/step - loss: 0.8264 - mae: 0.8264\n",
      "Epoch 89/100\n",
      "2/2 [==============================] - 0s 9ms/step - loss: 0.3933 - mae: 0.3933\n",
      "Epoch 90/100\n",
      "2/2 [==============================] - 0s 28ms/step - loss: 0.9548 - mae: 0.9548\n",
      "Epoch 91/100\n",
      "2/2 [==============================] - 0s 20ms/step - loss: 1.8402 - mae: 1.8402\n",
      "Epoch 92/100\n",
      "2/2 [==============================] - 0s 8ms/step - loss: 1.0119 - mae: 1.0119\n",
      "Epoch 93/100\n",
      "2/2 [==============================] - 0s 11ms/step - loss: 2.6622 - mae: 2.6622\n",
      "Epoch 94/100\n",
      "2/2 [==============================] - 0s 7ms/step - loss: 1.7798 - mae: 1.7798\n",
      "Epoch 95/100\n",
      "2/2 [==============================] - 0s 10ms/step - loss: 1.3890 - mae: 1.3890\n",
      "Epoch 96/100\n",
      "2/2 [==============================] - 0s 8ms/step - loss: 2.1586 - mae: 2.1586\n",
      "Epoch 97/100\n",
      "2/2 [==============================] - 0s 8ms/step - loss: 1.8254 - mae: 1.8254\n",
      "Epoch 98/100\n",
      "2/2 [==============================] - 0s 11ms/step - loss: 1.6359 - mae: 1.6359\n",
      "Epoch 99/100\n",
      "2/2 [==============================] - 0s 9ms/step - loss: 1.9498 - mae: 1.9498\n",
      "Epoch 100/100\n",
      "2/2 [==============================] - 0s 8ms/step - loss: 0.9847 - mae: 0.9847\n"
     ]
    },
    {
     "data": {
      "text/plain": [
       "<keras.callbacks.History at 0x263ff1ba2c0>"
      ]
     },
     "execution_count": 52,
     "metadata": {},
     "output_type": "execute_result"
    }
   ],
   "source": [
    "# Let's fit our model to the training\n",
    "model.fit(X_train,y_train,epochs=100)"
   ]
  },
  {
   "cell_type": "code",
   "execution_count": 47,
   "metadata": {},
   "outputs": [
    {
     "name": "stdout",
     "output_type": "stream",
     "text": [
      "You must install pydot (`pip install pydot`) and install graphviz (see instructions at https://graphviz.gitlab.io/download/) for plot_model/model_to_dot to work.\n"
     ]
    }
   ],
   "source": [
    "from tensorflow.keras.utils import plot_model\n",
    "\n",
    "plot_model(model=model,show_shapes=True)"
   ]
  },
  {
   "attachments": {},
   "cell_type": "markdown",
   "metadata": {},
   "source": [
    "## Visualizing our models predictions\n",
    "\n",
    "To visualize predictions, it's a good idea to plot them against the ground truth labels"
   ]
  },
  {
   "cell_type": "code",
   "execution_count": 53,
   "metadata": {},
   "outputs": [
    {
     "name": "stdout",
     "output_type": "stream",
     "text": [
      "WARNING:tensorflow:6 out of the last 6 calls to <function Model.make_predict_function.<locals>.predict_function at 0x00000263FF231480> triggered tf.function retracing. Tracing is expensive and the excessive number of tracings could be due to (1) creating @tf.function repeatedly in a loop, (2) passing tensors with different shapes, (3) passing Python objects instead of tensors. For (1), please define your @tf.function outside of the loop. For (2), @tf.function has experimental_relax_shapes=True option that relaxes argument shapes that can avoid unnecessary retracing. For (3), please refer to https://www.tensorflow.org/guide/function#controlling_retracing and https://www.tensorflow.org/api_docs/python/tf/function for  more details.\n"
     ]
    },
    {
     "data": {
      "text/plain": [
       "array([[ 70.27891 ],\n",
       "       [ 74.284096],\n",
       "       [ 78.28929 ],\n",
       "       [ 82.29447 ],\n",
       "       [ 86.299675],\n",
       "       [ 90.30487 ],\n",
       "       [ 94.31005 ],\n",
       "       [ 98.315254],\n",
       "       [102.32044 ],\n",
       "       [106.32564 ]], dtype=float32)"
      ]
     },
     "execution_count": 53,
     "metadata": {},
     "output_type": "execute_result"
    }
   ],
   "source": [
    "y_pred=model.predict(X_test)\n",
    "y_pred"
   ]
  },
  {
   "cell_type": "code",
   "execution_count": 43,
   "metadata": {},
   "outputs": [
    {
     "data": {
      "text/plain": [
       "<tf.Tensor: shape=(10,), dtype=int32, numpy=array([ 70,  74,  78,  82,  86,  90,  94,  98, 102, 106])>"
      ]
     },
     "execution_count": 43,
     "metadata": {},
     "output_type": "execute_result"
    }
   ],
   "source": [
    "y_test"
   ]
  },
  {
   "cell_type": "code",
   "execution_count": 54,
   "metadata": {},
   "outputs": [
    {
     "data": {
      "image/png": "[encoded data removed]",
      "text/plain": [
       "<Figure size 1000x700 with 1 Axes>"
      ]
     },
     "metadata": {},
     "output_type": "display_data"
    }
   ],
   "source": [
    "# Lets's create a plotting function \n",
    "def plot_predictions(train_data=X_train,\n",
    "                     train_labels=y_train,\n",
    "                     test_data=X_test,\n",
    "                     test_labels=y_test,\n",
    "                     predictions=y_pred):\n",
    "    plt.figure(figsize=(10,7))\n",
    "    # Plot training data in blue\n",
    "    plt.scatter(train_data,train_labels,c=\"b\",label=\"Training data\")\n",
    "    # Plot testing data in green\n",
    "    plt.scatter(test_data,test_labels,c=\"g\",label=\"Testing data\")\n",
    "    # Plot model's prediction in yellow\n",
    "    plt.scatter(test_data,predictions,c=\"y\",label=\"Predictions\")\n",
    "    # Show legend\n",
    "    plt.legend()\n",
    "    \n",
    "    \n",
    "plot_predictions(train_data=X_train,train_labels=y_train,test_data=X_test,test_labels=y_test,predictions=y_pred)    "
   ]
  },
  {
   "attachments": {},
   "cell_type": "markdown",
   "metadata": {},
   "source": [
    "### Evaluating our model's predictions with regression evaluation metrics"
   ]
  },
  {
   "cell_type": "code",
   "execution_count": 55,
   "metadata": {},
   "outputs": [
    {
     "name": "stdout",
     "output_type": "stream",
     "text": [
      "1/1 [==============================] - 0s 164ms/step - loss: 0.3023 - mae: 0.3023\n"
     ]
    },
    {
     "data": {
      "text/plain": [
       "[0.30226975679397583, 0.30226975679397583]"
      ]
     },
     "execution_count": 55,
     "metadata": {},
     "output_type": "execute_result"
    }
   ],
   "source": [
    "# Evaluate the model on the test\n",
    "\n",
    "model.evaluate(X_test,y_test)"
   ]
  },
  {
   "cell_type": "code",
   "execution_count": 58,
   "metadata": {},
   "outputs": [
    {
     "data": {
      "text/plain": [
       "<tf.Tensor: shape=(), dtype=float32, numpy=0.30226976>"
      ]
     },
     "execution_count": 58,
     "metadata": {},
     "output_type": "execute_result"
    }
   ],
   "source": [
    "# Calculate the mean absolute error \n",
    "\n",
    "mae=tf.metrics.MAE(y_test,tf.squeeze(y_pred))\n",
    "mae"
   ]
  },
  {
   "cell_type": "code",
   "execution_count": 59,
   "metadata": {},
   "outputs": [
    {
     "data": {
      "text/plain": [
       "<tf.Tensor: shape=(), dtype=float32, numpy=0.09158943>"
      ]
     },
     "execution_count": 59,
     "metadata": {},
     "output_type": "execute_result"
    }
   ],
   "source": [
    "# Calculate mean square error \n",
    "\n",
    "mse= tf.metrics.MSE(y_test,tf.squeeze(y_pred))\n",
    "mse"
   ]
  },
  {
   "cell_type": "code",
   "execution_count": 63,
   "metadata": {},
   "outputs": [],
   "source": [
    "def mae(y_test,y_pred):\n",
    "    return tf.metrics.MAE(y_test,tf.squeeze(y_pred))\n",
    "\n",
    "def mse(y_test,y_pred):\n",
    "    return tf.metrics.MSE(y_test,tf.squeeze(y_pred))"
   ]
  },
  {
   "cell_type": "code",
   "execution_count": 65,
   "metadata": {},
   "outputs": [
    {
     "data": {
      "text/plain": [
       "(<tf.Tensor: shape=(), dtype=float32, numpy=0.30226976>,\n",
       " <tf.Tensor: shape=(), dtype=float32, numpy=0.09158943>)"
      ]
     },
     "execution_count": 65,
     "metadata": {},
     "output_type": "execute_result"
    }
   ],
   "source": [
    "mae=mae(y_test=y_test,y_pred=y_pred)\n",
    "mse=mse(y_test=y_test,y_pred=y_pred)\n",
    "mae,mse"
   ]
  },
  {
   "attachments": {},
   "cell_type": "markdown",
   "metadata": {},
   "source": [
    "### Comparing the results of our experiments"
   ]
  },
  {
   "cell_type": "code",
   "execution_count": null,
   "metadata": {},
   "outputs": [],
   "source": [
    "# Let's compare our model's results with panda"
   ]
  }
 ],
 "metadata": {
  "kernelspec": {
   "display_name": "tf2.4",
   "language": "python",
   "name": "python3"
  },
  "language_info": {
   "codemirror_mode": {
    "name": "ipython",
    "version": 3
   },
   "file_extension": ".py",
   "mimetype": "text/x-python",
   "name": "python",
   "nbconvert_exporter": "python",
   "pygments_lexer": "ipython3",
   "version": "3.10.0"
  },
  "orig_nbformat": 4,
  "vscode": {
   "interpreter": {
    "hash": "253ae6feff4fd1b8c72e2ad785b88438628b5b076110376ae0f22865de7b119a"
   }
  }
 },
 "nbformat": 4,
 "nbformat_minor": 2
}
